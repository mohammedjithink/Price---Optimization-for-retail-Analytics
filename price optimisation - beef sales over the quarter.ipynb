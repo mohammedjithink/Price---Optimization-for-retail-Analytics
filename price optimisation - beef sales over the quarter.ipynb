{
 "cells": [
  {
   "cell_type": "markdown",
   "id": "1d6f5edb",
   "metadata": {},
   "source": [
    "# Price - Optimization - Retail Analytics"
   ]
  },
  {
   "cell_type": "markdown",
   "id": "d4efbe28",
   "metadata": {},
   "source": [
    "# Importing Libraries"
   ]
  },
  {
   "cell_type": "code",
   "execution_count": 41,
   "id": "df2cf806",
   "metadata": {},
   "outputs": [],
   "source": [
    "import numpy as np\n",
    "from pandas import DataFrame\n",
    "import matplotlib.pyplot as plt\n",
    "import seaborn as sns\n",
    "from statsmodels.formula.api import ols\n",
    "%matplotlib inline"
   ]
  },
  {
   "cell_type": "markdown",
   "id": "1ae8c9e1",
   "metadata": {},
   "source": [
    "# Load the Data"
   ]
  },
  {
   "cell_type": "code",
   "execution_count": 42,
   "id": "69c17ce8",
   "metadata": {},
   "outputs": [],
   "source": [
    "df=pd.read_csv('D:/python learning/beef.csv')"
   ]
  },
  {
   "cell_type": "code",
   "execution_count": 43,
   "id": "63649a57",
   "metadata": {},
   "outputs": [
    {
     "data": {
      "text/html": [
       "<div>\n",
       "<style scoped>\n",
       "    .dataframe tbody tr th:only-of-type {\n",
       "        vertical-align: middle;\n",
       "    }\n",
       "\n",
       "    .dataframe tbody tr th {\n",
       "        vertical-align: top;\n",
       "    }\n",
       "\n",
       "    .dataframe thead th {\n",
       "        text-align: right;\n",
       "    }\n",
       "</style>\n",
       "<table border=\"1\" class=\"dataframe\">\n",
       "  <thead>\n",
       "    <tr style=\"text-align: right;\">\n",
       "      <th></th>\n",
       "      <th>Year</th>\n",
       "      <th>Quarter</th>\n",
       "      <th>Quantity</th>\n",
       "      <th>Price</th>\n",
       "    </tr>\n",
       "  </thead>\n",
       "  <tbody>\n",
       "    <tr>\n",
       "      <th>0</th>\n",
       "      <td>1977</td>\n",
       "      <td>1</td>\n",
       "      <td>22.9976</td>\n",
       "      <td>142.1667</td>\n",
       "    </tr>\n",
       "    <tr>\n",
       "      <th>1</th>\n",
       "      <td>1977</td>\n",
       "      <td>2</td>\n",
       "      <td>22.6131</td>\n",
       "      <td>143.9333</td>\n",
       "    </tr>\n",
       "    <tr>\n",
       "      <th>2</th>\n",
       "      <td>1977</td>\n",
       "      <td>3</td>\n",
       "      <td>23.4054</td>\n",
       "      <td>146.5000</td>\n",
       "    </tr>\n",
       "    <tr>\n",
       "      <th>3</th>\n",
       "      <td>1977</td>\n",
       "      <td>4</td>\n",
       "      <td>22.7401</td>\n",
       "      <td>150.8000</td>\n",
       "    </tr>\n",
       "    <tr>\n",
       "      <th>4</th>\n",
       "      <td>1978</td>\n",
       "      <td>1</td>\n",
       "      <td>22.0441</td>\n",
       "      <td>160.0000</td>\n",
       "    </tr>\n",
       "  </tbody>\n",
       "</table>\n",
       "</div>"
      ],
      "text/plain": [
       "   Year  Quarter  Quantity     Price\n",
       "0  1977        1   22.9976  142.1667\n",
       "1  1977        2   22.6131  143.9333\n",
       "2  1977        3   23.4054  146.5000\n",
       "3  1977        4   22.7401  150.8000\n",
       "4  1978        1   22.0441  160.0000"
      ]
     },
     "execution_count": 43,
     "metadata": {},
     "output_type": "execute_result"
    }
   ],
   "source": [
    "df.head()"
   ]
  },
  {
   "cell_type": "code",
   "execution_count": 46,
   "id": "b45d682b",
   "metadata": {},
   "outputs": [],
   "source": [
    "df['Revenue']=df['Quantity']*df['Price']"
   ]
  },
  {
   "cell_type": "code",
   "execution_count": 47,
   "id": "39efc618",
   "metadata": {},
   "outputs": [
    {
     "data": {
      "text/html": [
       "<div>\n",
       "<style scoped>\n",
       "    .dataframe tbody tr th:only-of-type {\n",
       "        vertical-align: middle;\n",
       "    }\n",
       "\n",
       "    .dataframe tbody tr th {\n",
       "        vertical-align: top;\n",
       "    }\n",
       "\n",
       "    .dataframe thead th {\n",
       "        text-align: right;\n",
       "    }\n",
       "</style>\n",
       "<table border=\"1\" class=\"dataframe\">\n",
       "  <thead>\n",
       "    <tr style=\"text-align: right;\">\n",
       "      <th></th>\n",
       "      <th>Year</th>\n",
       "      <th>Quarter</th>\n",
       "      <th>Quantity</th>\n",
       "      <th>Price</th>\n",
       "      <th>Revenue</th>\n",
       "    </tr>\n",
       "  </thead>\n",
       "  <tbody>\n",
       "    <tr>\n",
       "      <th>0</th>\n",
       "      <td>1977</td>\n",
       "      <td>1</td>\n",
       "      <td>22.9976</td>\n",
       "      <td>142.1667</td>\n",
       "      <td>3269.492900</td>\n",
       "    </tr>\n",
       "    <tr>\n",
       "      <th>1</th>\n",
       "      <td>1977</td>\n",
       "      <td>2</td>\n",
       "      <td>22.6131</td>\n",
       "      <td>143.9333</td>\n",
       "      <td>3254.778106</td>\n",
       "    </tr>\n",
       "    <tr>\n",
       "      <th>2</th>\n",
       "      <td>1977</td>\n",
       "      <td>3</td>\n",
       "      <td>23.4054</td>\n",
       "      <td>146.5000</td>\n",
       "      <td>3428.891100</td>\n",
       "    </tr>\n",
       "    <tr>\n",
       "      <th>3</th>\n",
       "      <td>1977</td>\n",
       "      <td>4</td>\n",
       "      <td>22.7401</td>\n",
       "      <td>150.8000</td>\n",
       "      <td>3429.207080</td>\n",
       "    </tr>\n",
       "    <tr>\n",
       "      <th>4</th>\n",
       "      <td>1978</td>\n",
       "      <td>1</td>\n",
       "      <td>22.0441</td>\n",
       "      <td>160.0000</td>\n",
       "      <td>3527.056000</td>\n",
       "    </tr>\n",
       "    <tr>\n",
       "      <th>...</th>\n",
       "      <td>...</td>\n",
       "      <td>...</td>\n",
       "      <td>...</td>\n",
       "      <td>...</td>\n",
       "      <td>...</td>\n",
       "    </tr>\n",
       "    <tr>\n",
       "      <th>86</th>\n",
       "      <td>1998</td>\n",
       "      <td>3</td>\n",
       "      <td>17.5085</td>\n",
       "      <td>277.3667</td>\n",
       "      <td>4856.274867</td>\n",
       "    </tr>\n",
       "    <tr>\n",
       "      <th>87</th>\n",
       "      <td>1998</td>\n",
       "      <td>4</td>\n",
       "      <td>16.6475</td>\n",
       "      <td>279.5333</td>\n",
       "      <td>4653.530612</td>\n",
       "    </tr>\n",
       "    <tr>\n",
       "      <th>88</th>\n",
       "      <td>1999</td>\n",
       "      <td>1</td>\n",
       "      <td>16.6785</td>\n",
       "      <td>278.0000</td>\n",
       "      <td>4636.623000</td>\n",
       "    </tr>\n",
       "    <tr>\n",
       "      <th>89</th>\n",
       "      <td>1999</td>\n",
       "      <td>2</td>\n",
       "      <td>17.7635</td>\n",
       "      <td>284.7667</td>\n",
       "      <td>5058.453275</td>\n",
       "    </tr>\n",
       "    <tr>\n",
       "      <th>90</th>\n",
       "      <td>1999</td>\n",
       "      <td>3</td>\n",
       "      <td>17.6689</td>\n",
       "      <td>289.2333</td>\n",
       "      <td>5110.434254</td>\n",
       "    </tr>\n",
       "  </tbody>\n",
       "</table>\n",
       "<p>91 rows × 5 columns</p>\n",
       "</div>"
      ],
      "text/plain": [
       "    Year  Quarter  Quantity     Price      Revenue\n",
       "0   1977        1   22.9976  142.1667  3269.492900\n",
       "1   1977        2   22.6131  143.9333  3254.778106\n",
       "2   1977        3   23.4054  146.5000  3428.891100\n",
       "3   1977        4   22.7401  150.8000  3429.207080\n",
       "4   1978        1   22.0441  160.0000  3527.056000\n",
       "..   ...      ...       ...       ...          ...\n",
       "86  1998        3   17.5085  277.3667  4856.274867\n",
       "87  1998        4   16.6475  279.5333  4653.530612\n",
       "88  1999        1   16.6785  278.0000  4636.623000\n",
       "89  1999        2   17.7635  284.7667  5058.453275\n",
       "90  1999        3   17.6689  289.2333  5110.434254\n",
       "\n",
       "[91 rows x 5 columns]"
      ]
     },
     "execution_count": 47,
     "metadata": {},
     "output_type": "execute_result"
    }
   ],
   "source": [
    "df"
   ]
  },
  {
   "cell_type": "code",
   "execution_count": 48,
   "id": "9eea59b7",
   "metadata": {},
   "outputs": [
    {
     "data": {
      "text/plain": [
       "Quarter\n",
       "1    101674.429791\n",
       "2    105884.555198\n",
       "3    107917.302004\n",
       "4     98202.583351\n",
       "Name: Revenue, dtype: float64"
      ]
     },
     "execution_count": 48,
     "metadata": {},
     "output_type": "execute_result"
    }
   ],
   "source": [
    "df.groupby('Quarter')['Revenue'].sum()"
   ]
  },
  {
   "cell_type": "code",
   "execution_count": 49,
   "id": "72a2137d",
   "metadata": {},
   "outputs": [
    {
     "name": "stderr",
     "output_type": "stream",
     "text": [
      "D:\\phone\\anaconda\\lib\\site-packages\\seaborn\\_decorators.py:36: FutureWarning: Pass the following variable as a keyword arg: x. From version 0.12, the only valid positional argument will be `data`, and passing other arguments without an explicit keyword will result in an error or misinterpretation.\n",
      "  warnings.warn(\n"
     ]
    },
    {
     "data": {
      "text/plain": [
       "<AxesSubplot:xlabel='Revenue', ylabel='count'>"
      ]
     },
     "execution_count": 49,
     "metadata": {},
     "output_type": "execute_result"
    },
    {
     "data": {
      "image/png": "[encoded data removed]",
      "text/plain": [
       "<Figure size 432x288 with 1 Axes>"
      ]
     },
     "metadata": {
      "needs_background": "light"
     },
     "output_type": "display_data"
    }
   ],
   "source": [
    "\n",
    "sns.countplot(df.groupby('Quarter')['Revenue'].sum(),data=df)                        "
   ]
  },
  {
   "cell_type": "code",
   "execution_count": 39,
   "id": "ccb3da94",
   "metadata": {},
   "outputs": [
    {
     "data": {
      "image/png": "[encoded data removed]",
      "text/plain": [
       "<Figure size 1440x1080 with 1 Axes>"
      ]
     },
     "metadata": {},
     "output_type": "display_data"
    }
   ],
   "source": [
    "plt.rcParams['figure.figsize']=(20,15)\n",
    "plt.style.use('ggplot')\n",
    "ax=df.plot()\n",
    "plt.show()"
   ]
  },
  {
   "cell_type": "markdown",
   "id": "26a0b9d7",
   "metadata": {},
   "source": [
    "# Defining the profit function"
   ]
  },
  {
   "cell_type": "code",
   "execution_count": 7,
   "id": "99d10e73",
   "metadata": {},
   "outputs": [],
   "source": [
    "\n",
    "# revenue =Qantity * Price\n",
    "# profit=revenue -cost\n",
    "\n",
    "df['Revenue']=df['Quantity']*df['Price']"
   ]
  },
  {
   "cell_type": "code",
   "execution_count": 8,
   "id": "5e44d9fc",
   "metadata": {},
   "outputs": [
    {
     "data": {
      "text/html": [
       "<div>\n",
       "<style scoped>\n",
       "    .dataframe tbody tr th:only-of-type {\n",
       "        vertical-align: middle;\n",
       "    }\n",
       "\n",
       "    .dataframe tbody tr th {\n",
       "        vertical-align: top;\n",
       "    }\n",
       "\n",
       "    .dataframe thead th {\n",
       "        text-align: right;\n",
       "    }\n",
       "</style>\n",
       "<table border=\"1\" class=\"dataframe\">\n",
       "  <thead>\n",
       "    <tr style=\"text-align: right;\">\n",
       "      <th></th>\n",
       "      <th>Year</th>\n",
       "      <th>Quarter</th>\n",
       "      <th>Quantity</th>\n",
       "      <th>Price</th>\n",
       "      <th>Revenue</th>\n",
       "    </tr>\n",
       "  </thead>\n",
       "  <tbody>\n",
       "    <tr>\n",
       "      <th>0</th>\n",
       "      <td>1977</td>\n",
       "      <td>1</td>\n",
       "      <td>22.9976</td>\n",
       "      <td>142.1667</td>\n",
       "      <td>3269.492900</td>\n",
       "    </tr>\n",
       "    <tr>\n",
       "      <th>1</th>\n",
       "      <td>1977</td>\n",
       "      <td>2</td>\n",
       "      <td>22.6131</td>\n",
       "      <td>143.9333</td>\n",
       "      <td>3254.778106</td>\n",
       "    </tr>\n",
       "    <tr>\n",
       "      <th>2</th>\n",
       "      <td>1977</td>\n",
       "      <td>3</td>\n",
       "      <td>23.4054</td>\n",
       "      <td>146.5000</td>\n",
       "      <td>3428.891100</td>\n",
       "    </tr>\n",
       "    <tr>\n",
       "      <th>3</th>\n",
       "      <td>1977</td>\n",
       "      <td>4</td>\n",
       "      <td>22.7401</td>\n",
       "      <td>150.8000</td>\n",
       "      <td>3429.207080</td>\n",
       "    </tr>\n",
       "    <tr>\n",
       "      <th>4</th>\n",
       "      <td>1978</td>\n",
       "      <td>1</td>\n",
       "      <td>22.0441</td>\n",
       "      <td>160.0000</td>\n",
       "      <td>3527.056000</td>\n",
       "    </tr>\n",
       "    <tr>\n",
       "      <th>...</th>\n",
       "      <td>...</td>\n",
       "      <td>...</td>\n",
       "      <td>...</td>\n",
       "      <td>...</td>\n",
       "      <td>...</td>\n",
       "    </tr>\n",
       "    <tr>\n",
       "      <th>86</th>\n",
       "      <td>1998</td>\n",
       "      <td>3</td>\n",
       "      <td>17.5085</td>\n",
       "      <td>277.3667</td>\n",
       "      <td>4856.274867</td>\n",
       "    </tr>\n",
       "    <tr>\n",
       "      <th>87</th>\n",
       "      <td>1998</td>\n",
       "      <td>4</td>\n",
       "      <td>16.6475</td>\n",
       "      <td>279.5333</td>\n",
       "      <td>4653.530612</td>\n",
       "    </tr>\n",
       "    <tr>\n",
       "      <th>88</th>\n",
       "      <td>1999</td>\n",
       "      <td>1</td>\n",
       "      <td>16.6785</td>\n",
       "      <td>278.0000</td>\n",
       "      <td>4636.623000</td>\n",
       "    </tr>\n",
       "    <tr>\n",
       "      <th>89</th>\n",
       "      <td>1999</td>\n",
       "      <td>2</td>\n",
       "      <td>17.7635</td>\n",
       "      <td>284.7667</td>\n",
       "      <td>5058.453275</td>\n",
       "    </tr>\n",
       "    <tr>\n",
       "      <th>90</th>\n",
       "      <td>1999</td>\n",
       "      <td>3</td>\n",
       "      <td>17.6689</td>\n",
       "      <td>289.2333</td>\n",
       "      <td>5110.434254</td>\n",
       "    </tr>\n",
       "  </tbody>\n",
       "</table>\n",
       "<p>91 rows × 5 columns</p>\n",
       "</div>"
      ],
      "text/plain": [
       "    Year  Quarter  Quantity     Price      Revenue\n",
       "0   1977        1   22.9976  142.1667  3269.492900\n",
       "1   1977        2   22.6131  143.9333  3254.778106\n",
       "2   1977        3   23.4054  146.5000  3428.891100\n",
       "3   1977        4   22.7401  150.8000  3429.207080\n",
       "4   1978        1   22.0441  160.0000  3527.056000\n",
       "..   ...      ...       ...       ...          ...\n",
       "86  1998        3   17.5085  277.3667  4856.274867\n",
       "87  1998        4   16.6475  279.5333  4653.530612\n",
       "88  1999        1   16.6785  278.0000  4636.623000\n",
       "89  1999        2   17.7635  284.7667  5058.453275\n",
       "90  1999        3   17.6689  289.2333  5110.434254\n",
       "\n",
       "[91 rows x 5 columns]"
      ]
     },
     "execution_count": 8,
     "metadata": {},
     "output_type": "execute_result"
    }
   ],
   "source": [
    "df"
   ]
  },
  {
   "cell_type": "code",
   "execution_count": 12,
   "id": "4471841f",
   "metadata": {},
   "outputs": [
    {
     "name": "stderr",
     "output_type": "stream",
     "text": [
      "D:\\phone\\anaconda\\lib\\site-packages\\seaborn\\regression.py:580: UserWarning: The `size` parameter has been renamed to `height`; please update your code.\n",
      "  warnings.warn(msg, UserWarning)\n"
     ]
    },
    {
     "data": {
      "text/plain": [
       "<seaborn.axisgrid.FacetGrid at 0x206a10f9160>"
      ]
     },
     "execution_count": 12,
     "metadata": {},
     "output_type": "execute_result"
    },
    {
     "data": {
      "image/png": "[encoded data removed]",
      "text/plain": [
       "<Figure size 288x288 with 1 Axes>"
      ]
     },
     "metadata": {
      "needs_background": "light"
     },
     "output_type": "display_data"
    }
   ],
   "source": [
    "#Defining the demand Function\n",
    "\n",
    "sns.lmplot(x=\"Price\",y=\"Quantity\",data=df,size=4)"
   ]
  },
  {
   "cell_type": "markdown",
   "id": "7ab62089",
   "metadata": {},
   "source": [
    "# We will find the demand curve now"
   ]
  },
  {
   "cell_type": "code",
   "execution_count": 13,
   "id": "44c9ff52",
   "metadata": {},
   "outputs": [],
   "source": [
    "model=ols(\"Quantity ~ Price\",data=df).fit()"
   ]
  },
  {
   "cell_type": "code",
   "execution_count": 14,
   "id": "c79d10fe",
   "metadata": {},
   "outputs": [
    {
     "name": "stdout",
     "output_type": "stream",
     "text": [
      "                            OLS Regression Results                            \n",
      "==============================================================================\n",
      "Dep. Variable:               Quantity   R-squared:                       0.901\n",
      "Model:                            OLS   Adj. R-squared:                  0.900\n",
      "Method:                 Least Squares   F-statistic:                     811.2\n",
      "Date:                Mon, 06 Sep 2021   Prob (F-statistic):           1.69e-46\n",
      "Time:                        12:18:46   Log-Likelihood:                -77.493\n",
      "No. Observations:                  91   AIC:                             159.0\n",
      "Df Residuals:                      89   BIC:                             164.0\n",
      "Df Model:                           1                                         \n",
      "Covariance Type:            nonrobust                                         \n",
      "==============================================================================\n",
      "                 coef    std err          t      P>|t|      [0.025      0.975]\n",
      "------------------------------------------------------------------------------\n",
      "Intercept     30.0515      0.413     72.701      0.000      29.230      30.873\n",
      "Price         -0.0465      0.002    -28.482      0.000      -0.050      -0.043\n",
      "==============================================================================\n",
      "Omnibus:                        3.453   Durbin-Watson:                   1.533\n",
      "Prob(Omnibus):                  0.178   Jarque-Bera (JB):                2.460\n",
      "Skew:                           0.237   Prob(JB):                        0.292\n",
      "Kurtosis:                       2.349   Cond. No.                     1.74e+03\n",
      "==============================================================================\n",
      "\n",
      "Notes:\n",
      "[1] Standard Errors assume that the covariance matrix of the errors is correctly specified.\n",
      "[2] The condition number is large, 1.74e+03. This might indicate that there are\n",
      "strong multicollinearity or other numerical problems.\n"
     ]
    }
   ],
   "source": [
    "print(model.summary())"
   ]
  },
  {
   "cell_type": "markdown",
   "id": "bb8d4cc7",
   "metadata": {},
   "source": [
    "# We will find the demand curve now"
   ]
  },
  {
   "cell_type": "code",
   "execution_count": null,
   "id": "dd39f541",
   "metadata": {},
   "outputs": [],
   "source": [
    "Quantity= 30.05-0.0465*Price"
   ]
  },
  {
   "cell_type": "code",
   "execution_count": 18,
   "id": "7f6de526",
   "metadata": {},
   "outputs": [],
   "source": [
    "Profit = (30.05-0.0465*Price)*Price -cost"
   ]
  },
  {
   "cell_type": "markdown",
   "id": "6e998f8f",
   "metadata": {},
   "source": [
    "#### The next step is to find the price we are looking for from a range of options. The codes below should be intuitive, but basically what we are doing here is calculating revenue for each price and the corresponding quantity sold."
   ]
  },
  {
   "cell_type": "code",
   "execution_count": 20,
   "id": "4a8ab323",
   "metadata": {},
   "outputs": [],
   "source": [
    "Price=[320,330,340,350,360,370,380,390]"
   ]
  },
  {
   "cell_type": "code",
   "execution_count": 21,
   "id": "d8224fa3",
   "metadata": {},
   "outputs": [],
   "source": [
    "#Assume a fixed cost for now \n",
    "cost=80\n"
   ]
  },
  {
   "cell_type": "code",
   "execution_count": 26,
   "id": "fc1397ef",
   "metadata": {},
   "outputs": [],
   "source": [
    "Revenue=[]\n",
    "for i in Price:\n",
    "    Quantity_demand=30.05-0.0465*i\n",
    "    \n",
    "    Revenue.append((i-cost) * Quantity_demand )\n",
    "Profit=pd.DataFrame({\"Price\":Price,\"Revenue\":Revenue})"
   ]
  },
  {
   "cell_type": "code",
   "execution_count": 27,
   "id": "79e46ab4",
   "metadata": {},
   "outputs": [
    {
     "data": {
      "text/plain": [
       "[<matplotlib.lines.Line2D at 0x206a2f35f70>]"
      ]
     },
     "execution_count": 27,
     "metadata": {},
     "output_type": "execute_result"
    },
    {
     "data": {
      "image/png": "[encoded data removed]",
      "text/plain": [
       "<Figure size 432x288 with 1 Axes>"
      ]
     },
     "metadata": {
      "needs_background": "light"
     },
     "output_type": "display_data"
    }
   ],
   "source": [
    "plt.plot(Profit[\"Price\"],Profit[\"Revenue\"])"
   ]
  },
  {
   "cell_type": "markdown",
   "id": "b1922825",
   "metadata": {},
   "source": [
    "\n",
    "\n",
    "### If price and revenue are plotted, we can visually identify the peak of the revenue and find the price that makes the revenue at the highest point on the curve.\n",
    "\n",
    "####  So we find that the maximum revenue at different price levels is reached at $3,726 when the price is set at $360."
   ]
  },
  {
   "cell_type": "code",
   "execution_count": 30,
   "id": "6a4594a1",
   "metadata": {},
   "outputs": [
    {
     "data": {
      "text/html": [
       "<div>\n",
       "<style scoped>\n",
       "    .dataframe tbody tr th:only-of-type {\n",
       "        vertical-align: middle;\n",
       "    }\n",
       "\n",
       "    .dataframe tbody tr th {\n",
       "        vertical-align: top;\n",
       "    }\n",
       "\n",
       "    .dataframe thead th {\n",
       "        text-align: right;\n",
       "    }\n",
       "</style>\n",
       "<table border=\"1\" class=\"dataframe\">\n",
       "  <thead>\n",
       "    <tr style=\"text-align: right;\">\n",
       "      <th></th>\n",
       "      <th>Price</th>\n",
       "      <th>Revenue</th>\n",
       "    </tr>\n",
       "  </thead>\n",
       "  <tbody>\n",
       "    <tr>\n",
       "      <th>4</th>\n",
       "      <td>360</td>\n",
       "      <td>3726.8</td>\n",
       "    </tr>\n",
       "  </tbody>\n",
       "</table>\n",
       "</div>"
      ],
      "text/plain": [
       "   Price  Revenue\n",
       "4    360   3726.8"
      ]
     },
     "execution_count": 30,
     "metadata": {},
     "output_type": "execute_result"
    }
   ],
   "source": [
    "#price at which revenue is maximum\n",
    "Profit[Profit['Revenue'] == Profit['Revenue'].max()]"
   ]
  },
  {
   "cell_type": "code",
   "execution_count": null,
   "id": "20b056cb",
   "metadata": {},
   "outputs": [],
   "source": []
  }
 ],
 "metadata": {
  "kernelspec": {
   "display_name": "Python 3",
   "language": "python",
   "name": "python3"
  },
  "language_info": {
   "codemirror_mode": {
    "name": "ipython",
    "version": 3
   },
   "file_extension": ".py",
   "mimetype": "text/x-python",
   "name": "python",
   "nbconvert_exporter": "python",
   "pygments_lexer": "ipython3",
   "version": "3.8.8"
  }
 },
 "nbformat": 4,
 "nbformat_minor": 5
}
